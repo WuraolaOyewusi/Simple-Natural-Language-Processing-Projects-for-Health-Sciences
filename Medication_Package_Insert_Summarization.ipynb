{
  "nbformat": 4,
  "nbformat_minor": 0,
  "metadata": {
    "colab": {
      "name": "Medication_Package_Insert_Summarization.ipynb",
      "version": "0.3.2",
      "provenance": [],
      "include_colab_link": true
    },
    "kernelspec": {
      "name": "python3",
      "display_name": "Python 3"
    },
    "accelerator": "GPU"
  },
  "cells": [
    {
      "cell_type": "markdown",
      "metadata": {
        "id": "view-in-github",
        "colab_type": "text"
      },
      "source": [
        "<a href=\"https://colab.research.google.com/github/WuraolaOyewusi/Simple-Natural-Language-Processing-Projects-for-Health-Sciences/blob/master/Medication_Package_Insert_Summarization.ipynb\" target=\"_parent\"><img src=\"https://colab.research.google.com/assets/colab-badge.svg\" alt=\"Open In Colab\"/></a>"
      ]
    },
    {
      "cell_type": "code",
      "metadata": {
        "id": "j3db1S5x1Ii3",
        "colab_type": "code",
        "colab": {}
      },
      "source": [
        "!wget https://au.gsk.com/media/217195/engerix-b_pi_006_approved.pdf   # Download a sample medication insert"
      ],
      "execution_count": 0,
      "outputs": []
    },
    {
      "cell_type": "code",
      "metadata": {
        "id": "ksernmeoTU1q",
        "colab_type": "code",
        "colab": {}
      },
      "source": [
        "!pip install tika #Install Tika for Text extraction from pdf"
      ],
      "execution_count": 0,
      "outputs": []
    },
    {
      "cell_type": "code",
      "metadata": {
        "id": "-OubcUdQeyeV",
        "colab_type": "code",
        "colab": {}
      },
      "source": [
        "!pip install sumy #Install sumy for text summarization"
      ],
      "execution_count": 0,
      "outputs": []
    },
    {
      "cell_type": "code",
      "metadata": {
        "id": "2bniItOuTTze",
        "colab_type": "code",
        "colab": {}
      },
      "source": [
        "from tika import parser\n",
        "\n",
        "rawText = parser.from_file('engerix-b_pi_006_approved.pdf')\n",
        "\n",
        "rawList = rawText['content'].splitlines()\n"
      ],
      "execution_count": 0,
      "outputs": []
    },
    {
      "cell_type": "code",
      "metadata": {
        "id": "LtHWc8hQTq2p",
        "colab_type": "code",
        "colab": {}
      },
      "source": [
        "rawList = [item for item in rawList if item.strip()]   # To strip tailing nextlines and spaces"
      ],
      "execution_count": 0,
      "outputs": []
    },
    {
      "cell_type": "code",
      "metadata": {
        "id": "ImuZXSiy22UQ",
        "colab_type": "code",
        "colab": {
          "base_uri": "https://localhost:8080/",
          "height": 34
        },
        "outputId": "ba1159f8-8b69-4f93-95cf-e20df2728010"
      },
      "source": [
        "len(rawList)       # Extracted text is about 673 Lines"
      ],
      "execution_count": 42,
      "outputs": [
        {
          "output_type": "execute_result",
          "data": {
            "text/plain": [
              "673"
            ]
          },
          "metadata": {
            "tags": []
          },
          "execution_count": 42
        }
      ]
    },
    {
      "cell_type": "code",
      "metadata": {
        "id": "pSUzdwIxyiwJ",
        "colab_type": "code",
        "colab": {}
      },
      "source": [
        "rawList_str = ' '.join(rawList)    #convert from lists to string"
      ],
      "execution_count": 0,
      "outputs": []
    },
    {
      "cell_type": "code",
      "metadata": {
        "id": "s5U_agvx6uCV",
        "colab_type": "code",
        "colab": {}
      },
      "source": [
        "from gensim.summarization import keywords\n",
        "from gensim.summarization.summarizer import summarize,summarize_corpus"
      ],
      "execution_count": 0,
      "outputs": []
    },
    {
      "cell_type": "code",
      "metadata": {
        "id": "TMMerZkr9aJX",
        "colab_type": "code",
        "colab": {}
      },
      "source": [
        "#help(summarize)    #uncomment to know more \n",
        "#help(keywords)"
      ],
      "execution_count": 0,
      "outputs": []
    },
    {
      "cell_type": "code",
      "metadata": {
        "id": "5cNEOnks-jHR",
        "colab_type": "code",
        "colab": {}
      },
      "source": [
        "gensim_keywords = keywords(rawList_str,lemmatize=True,scores=True,ratio=0.40)"
      ],
      "execution_count": 0,
      "outputs": []
    },
    {
      "cell_type": "code",
      "metadata": {
        "id": "3JXvz8TC-qqg",
        "colab_type": "code",
        "colab": {
          "base_uri": "https://localhost:8080/",
          "height": 1000
        },
        "outputId": "7bc60bc6-149b-4b6b-f7f3-40fe7e3da592"
      },
      "source": [
        "pprint(gensim_keywords)"
      ],
      "execution_count": 71,
      "outputs": [
        {
          "output_type": "stream",
          "text": [
            "[('vaccinations', 0.3582894066249944),\n",
            " ('rare', 0.24016880697207835),\n",
            " ('include', 0.16922629424180383),\n",
            " ('engerix', 0.1522467205187417),\n",
            " ('symptoms', 0.13372866089165314),\n",
            " ('patient', 0.13233696885805196),\n",
            " ('follows', 0.12341006596277462),\n",
            " ('dosing', 0.12094008013707357),\n",
            " ('antibody', 0.11909837871855769),\n",
            " ('clinically', 0.11763188777676434),\n",
            " ('group', 0.11744525939489373),\n",
            " ('infected', 0.11623367078507549),\n",
            " ('schedules', 0.11427264343878138),\n",
            " ('month', 0.10520231928206968),\n",
            " ('seroprotected', 0.10460690259602186),\n",
            " ('inject', 0.10196288010164631),\n",
            " ('risks', 0.10187387934059204),\n",
            " ('hepatic', 0.10150538645638614),\n",
            " ('reaction', 0.0976061428442902),\n",
            " ('disorders', 0.0927395634705536),\n",
            " ('function', 0.08620620035139591),\n",
            " ('common', 0.08317955872075516),\n",
            " ('human', 0.08086182337311146),\n",
            " ('protected', 0.0806674242921947),\n",
            " ('anti', 0.07918882523370324),\n",
            " ('adult', 0.07880951328273526),\n",
            " ('contact', 0.07748089937300691),\n",
            " ('adolescent', 0.07434640994582041),\n",
            " ('use', 0.07379175822072429),\n",
            " ('children', 0.07353301878954967),\n",
            " ('term', 0.0721106701232394),\n",
            " ('immunisation', 0.07111110353069175),\n",
            " ('antigens', 0.07110243565333914),\n",
            " ('receiving', 0.06999429029058798),\n",
            " ('pain', 0.06729323450067579),\n",
            " ('exposure', 0.06711540049311299),\n",
            " ('activities', 0.06607084973417138),\n",
            " ('years', 0.06504872293125255),\n",
            " ('individuals', 0.06415092573527353),\n",
            " ('frequencies', 0.06387808351921062),\n",
            " ('adequately', 0.06380202639941501),\n",
            " ('liver', 0.06337060918682137),\n",
            " ('long', 0.06329854579177713),\n",
            " ('sexually', 0.06225720796476008),\n",
            " ('primary', 0.06203111400722662),\n",
            " ('study', 0.06156409101507081),\n",
            " ('participants born', 0.06144011378575054),\n",
            " ('administration', 0.06102871517314075),\n",
            " ('site', 0.0605098373529128),\n",
            " ('administering', 0.05891401170945354),\n",
            " ('response', 0.057969168111038694),\n",
            " ('adverse', 0.057806044265588656),\n",
            " ('infants', 0.057536737611598665),\n",
            " ('carrier', 0.056897820804661575),\n",
            " ('haemodialysis', 0.05667992643828239),\n",
            " ('staff', 0.05598450211091975),\n",
            " ('uncommon', 0.0552642013119115),\n",
            " ('blood products', 0.05363250752820986),\n",
            " ('seropositivity', 0.05253782910057302),\n",
            " ('post', 0.05224939293531334),\n",
            " ('aged', 0.05222205439000411),\n",
            " ('unknown', 0.0517735550503781),\n",
            " ('data', 0.05174552895701179),\n",
            " ('trial', 0.05121460253660539),\n",
            " ('fatigue', 0.05090835041588465),\n",
            " ('recommends', 0.05068514055351442),\n",
            " ('local', 0.050674340487504445),\n",
            " ('white cell', 0.04967330176692654),\n",
            " ('body', 0.04904715770855697),\n",
            " ('respiratory', 0.04887808023086169),\n",
            " ('care', 0.04737087045785659),\n",
            " ('medical', 0.0471751973673731),\n",
            " ('derived', 0.0466505826638394),\n",
            " ('gastrointestinal', 0.0452249819325553),\n",
            " ('intervals', 0.045101240560716196),\n",
            " ('chronic', 0.04474893623542942),\n",
            " ('glaxosmithkline', 0.044484709076228215),\n",
            " ('hbsag', 0.0444787741709562),\n",
            " ('indicated', 0.04385573058820965),\n",
            " ('overdosage', 0.043122521059611535),\n",
            " ('information', 0.04301346104311353),\n",
            " ('colourless', 0.042880614251308014),\n",
            " ('rixensart', 0.04288061425130796),\n",
            " ('particulate', 0.04288061425130793),\n",
            " ('date', 0.042793394276928964),\n",
            " ('sizes', 0.04275001536049716),\n",
            " ('demonstrating immune', 0.042406641207699595),\n",
            " ('severely', 0.042255904659879495),\n",
            " ('related', 0.041584028570138605),\n",
            " ('positive', 0.04084615494594297),\n",
            " ('renal', 0.04071274761912687),\n",
            " ('previous available', 0.04048793042449079),\n",
            " ('total', 0.04039764447812202),\n",
            " ('syncope', 0.040196355289120474),\n",
            " ('nervous', 0.03982989681603552),\n",
            " ('encephalopathy', 0.03964919970168414),\n",
            " ('recombinant', 0.03926973130248756),\n",
            " ('normal', 0.03915910487601266),\n",
            " ('influenza', 0.03913251260024529),\n",
            " ('paralysis', 0.038956091616672246),\n",
            " ('provides', 0.038927226519447036),\n",
            " ('testing', 0.03845571181532414),\n",
            " ('effectiveness', 0.0384035234895892),\n",
            " ('bleeding', 0.03836852970916912),\n",
            " ('skin', 0.03811639967170575),\n",
            " ('reports', 0.037956463080023886),\n",
            " ('goods', 0.03723099592166692),\n",
            " ('respectively', 0.036985203932813716),\n",
            " ('rates', 0.036693638814545786),\n",
            " ('july', 0.03635190216350719),\n",
            " ('australia', 0.03634820602795629),\n",
            " ('marketed', 0.03610536837306569),\n",
            " ('immunoassay', 0.03606111706352954),\n",
            " ('free', 0.03602990865001167),\n",
            " ('susceptible', 0.03580359232852181),\n",
            " ('considered', 0.03578833782865784),\n",
            " ('fever', 0.03570550688161545),\n",
            " ('contain sodium phosphate', 0.03552728021469099),\n",
            " ('low', 0.03531846042038),\n",
            " ('urticaria', 0.03531299021207675),\n",
            " ('presentations', 0.035293499205909566),\n",
            " ('visually', 0.03509152736287163),\n",
            " ('hbv', 0.03492060869378014),\n",
            " ('neuritis', 0.03484403223903813),\n",
            " ('level', 0.034413966976395025),\n",
            " ('hpv', 0.03439593176756477),\n",
            " ('transplanted', 0.034123031016538706),\n",
            " ('grade', 0.03389514874658204),\n",
            " ('machinery', 0.03363893160422229),\n",
            " ('embalming', 0.03363258186629028),\n",
            " ('dihydrate', 0.03350988984220683),\n",
            " ('malaise', 0.03345192016400712),\n",
            " ('healthy', 0.03321102131149925),\n",
            " ('dosage', 0.032741806688882026),\n",
            " ('region', 0.03268273916623739),\n",
            " ('travellers', 0.032433696136542164),\n",
            " ('required', 0.03237841526160893),\n",
            " ('dizziness', 0.032361249968382105),\n",
            " ('sclerosis', 0.03227604446326265),\n",
            " ('lymphadenopathy', 0.03220510310304652),\n",
            " ('general', 0.031965705966398604),\n",
            " ('services', 0.03136459786877407),\n",
            " ('directly', 0.03136459786877398),\n",
            " ('separate syringes', 0.03134790801094689),\n",
            " ('booster', 0.031325827902928816),\n",
            " ('vomiting', 0.03129469826955591),\n",
            " ('remains', 0.03087618553475101),\n",
            " ('amendment', 0.03081391545030636),\n",
            " ('tissue', 0.03071326172033387),\n",
            " ('australian', 0.030568572849285207),\n",
            " ('health', 0.03055919769909485),\n",
            " ('monitoring', 0.030543272902513494),\n",
            " ('disturbed', 0.030455212736757557),\n",
            " ('diphtheria', 0.030433713138846803),\n",
            " ('subcutaneous', 0.030415835106843737),\n",
            " ('autonomic', 0.03040366253670578),\n",
            " ('headache', 0.030217891881176302),\n",
            " ('neonates', 0.030120751280154495),\n",
            " ('hiv', 0.03007307258736781),\n",
            " ('deltoid', 0.029966148240750612),\n",
            " ('pharmacology', 0.02996415503169658),\n",
            " ('male', 0.02994146856637631),\n",
            " ('trade', 0.029871372394999127),\n",
            " ('hydroxide', 0.029799782863484787),\n",
            " ('benefits outweigh', 0.029696739558117673),\n",
            " ('known', 0.029628117982454214),\n",
            " ('glass', 0.029548514916443416),\n",
            " ('decreases', 0.02952254241049827),\n",
            " ('purified', 0.02937264342782927),\n",
            " ('highly', 0.029372643427829172),\n",
            " ('pregnancy', 0.02937264342782915),\n",
            " ('circumstances', 0.02937264342782912),\n",
            " ('category', 0.029372643427829116),\n",
            " ('exceptional', 0.02937264342782909),\n",
            " ('hepatocellular carcinoma', 0.02937264342782908),\n",
            " ('delta', 0.02937264342782908),\n",
            " ('status', 0.02937264342782908),\n",
            " ('poliomyelitis', 0.029372643427829068),\n",
            " ('anterolateral thigh', 0.029372643427829068),\n",
            " ('needlestick ocular', 0.029372643427829064),\n",
            " ('freeze discard', 0.029372643427829064),\n",
            " ('overall similar', 0.029372643427829054),\n",
            " ('reticulo', 0.029372643427829047),\n",
            " ('people living', 0.029372643427829047),\n",
            " ('agent', 0.029372643427829043),\n",
            " ('aust', 0.029372643427829043),\n",
            " ('oral', 0.029372643427829033),\n",
            " ('arm', 0.02937264342782902),\n",
            " ('hbeag', 0.029372643427829005),\n",
            " ('companies', 0.029372643427829),\n",
            " ('fold rise', 0.029372643427828984),\n",
            " ('usually mild', 0.029372643427828984),\n",
            " ('percentage', 0.02937264342782898),\n",
            " ('forces', 0.029372643427828943),\n",
            " ('shelf', 0.029372643427828922),\n",
            " ('number', 0.029372643427828842),\n",
            " ('habits', 0.029372643427828825),\n",
            " ('smoking', 0.0293726434278288),\n",
            " ('encephalitis', 0.029357128911018236),\n",
            " ('immunoglobulin', 0.029251305947912244),\n",
            " ('evidence', 0.029246655771136016),\n",
            " ('planus', 0.02902602132403447),\n",
            " ('abdominal', 0.029020198046519088),\n",
            " ('adoptive', 0.028829574769946683),\n",
            " ('confidence', 0.02879935775650039),\n",
            " ('achieve', 0.028744497786639043),\n",
            " ('lower', 0.02869347479983867),\n",
            " ('suspension', 0.028654401747569898),\n",
            " ('yeast', 0.02846505828447075),\n",
            " ('workers', 0.028458030958167093),\n",
            " ('profile', 0.028384100060274586),\n",
            " ('vascular', 0.02835570633327488),\n",
            " ('material', 0.02824806657675116),\n",
            " ('conditions', 0.028141891006446405),\n",
            " ('significance', 0.02812601044553825),\n",
            " ('shown', 0.02801185259254625),\n",
            " ('induration', 0.027877216622665884),\n",
            " ('period', 0.027666548358523398),\n",
            " ('saccharomyces', 0.027599789061932143),\n",
            " ('muscle', 0.02745665190672411),\n",
            " ('hypersensitivity', 0.027443245621513155),\n",
            " ('opaque', 0.0273218407957007),\n",
            " ('abnormal', 0.0273041037966881),\n",
            " ('nhmrc', 0.0272918058525547),\n",
            " ('delayed', 0.027290231586587433),\n",
            " ('rash', 0.027286148410736476),\n",
            " ('poison', 0.02728422831225837),\n",
            " ('disease', 0.027177628366612798),\n",
            " ('november', 0.027167612241779788),\n",
            " ('given', 0.027111428502795142),\n",
            " ('pharmacopoeia', 0.027086331510089462),\n",
            " ('meningitis neck', 0.026906056099928022),\n",
            " ('pre', 0.026797616475403466),\n",
            " ('timing', 0.026785412488256846),\n",
            " ('completed', 0.02660106258830156),\n",
            " ('titres', 0.02651582160042908),\n",
            " ('spongiform', 0.026505379147094422),\n",
            " ('convulsions', 0.026501225153447626),\n",
            " ('psychiatric', 0.026454514455053847),\n",
            " ('impairment', 0.02638572513220837),\n",
            " ('lost', 0.026266825238560908),\n",
            " ('hypotension', 0.026093044595558158),\n",
            " ('manufactured', 0.026011525069448684)]\n"
          ],
          "name": "stdout"
        }
      ]
    },
    {
      "cell_type": "code",
      "metadata": {
        "id": "6qgI4HzyEI49",
        "colab_type": "code",
        "colab": {}
      },
      "source": [
        "gensim_text_rank = summarize(rawList_str,ratio=0.30)   #ratio is the quantity of original text that should be in summary, word_count parameter can also be used"
      ],
      "execution_count": 0,
      "outputs": []
    },
    {
      "cell_type": "code",
      "metadata": {
        "id": "tc-LLOguyDI3",
        "colab_type": "code",
        "outputId": "5f7ab304-02f4-4704-833f-21782f31dd77",
        "colab": {
          "base_uri": "https://localhost:8080/",
          "height": 970
        }
      },
      "source": [
        "print(gensim_text_rank,'')"
      ],
      "execution_count": 0,
      "outputs": [
        {
          "output_type": "stream",
          "text": [
            "2  PHARMACOLOGY  ENGERIX-B induces the production of specific humoral antibodies (anti-HBs), which confer  immunity against hepatitis B.\n",
            "A peak anti-HBs antibody concentration of ≥10 IU/L correlates with  long-termprotection against hepatitis B virus (HBV) infection (seroprotection).\n",
            "CLINICAL TRIALS  Protective Efficacy  Clinical trials demonstrated SC rates of ≥ 97% (seroprotection (SP) rates of ≥ 96%) in normal  immunocompetent adults and children following a 0, 1, 6 months schedule, and SC rates of >90%  in neonates following injections at 0, 1, 2 months.\n",
            "At risk groups:  In clinical studies performed in Thailand twenty years after primary vaccination during infancy,  participants born to mothers who were HBV carriers, received a challenge dose of ENGERIX-B.\n",
            "One month later, at least 93% of participants (N=75) mounted an anamnestic response i.e. at least  (greater than or equal to) a 4-fold rise in post-challenge dose anti-HB’s antibody concentrations in  subjects seropositive at the previous available long-term time-point, demonstrating immune  memory.\n",
            "In a clinical trial where thalassaemic patients received three doses of 20µg at 0, 1, 6  months, SC rates as well as SP rates were 100% (17 participants tested).\n",
            "In healthy adults administered vaccine doses according to a 0, 1, 2 month primary schedule with a  12 month booster, seroprotective rates of 15% and 89% were achieved one month after the first  and third doses respectively.\n",
            "In healthy adults administered a 0, 7, 21 day primary  schedule with a 12 month booster, seroprotective rates of 65.2% and 76.4% were achieved one  week and one month respectively following the third vaccine dose.\n",
            "3  The seroprotection rates (SP) obtained with the two different dosages and schedules  recommended in participants from 11 years up to and including 15 years of age were evaluated up  to 66 months after the first dose of the primary vaccination and are presented in Table 1.\n",
            "Table 1: Seroprotection Rates obtained with two different dosages in participants 11 to 15  years   Vaccine groups Anti-HBs  Month 2  SP (%)  Anti-HBs  Month 6  SP (%)  Anti-HBs  Month 7  SP (%)  Anti-HBs  Month 30  SP (%)  Anti-HBs  Month 42  SP (%)  Anti-HBs  Month 54  SP (%)  Anti-HBs  Month 66  SP (%)  ENGERIX-B 10µg   (0, 1, 6 months  schedule)  55.8  (46.1- 65.1)1  87.6  (80.1- 93.1)1  98.2  (93.8- 99.8)1  96.9  (89.2- 99.6)1  92.5  (84.4- 97.2)1  94.7  (87.1- 98.5)1  91.4  (82.3- 96.8)1  ENGERIX-B 20µg  (0, 6 months  schedule)  11.3  (7.5- 15.9)1  26.4  (20.9- 32.4)1  96.7  (93.6- 98.6)1  87.1  (80.4- 92.2)1  83.7  (77.2- 89.0)1  84.4  (77.5- 89.8)1  79.5  (71.7- 86.1)1  1 95% confidence interval, (lower limit – upper limit)  These data show that a primary vaccination with ENGERIX-B vaccine induces circulating anti-HBs  antibodies that persist for at least 66 months.\n",
            "All participants in both vaccine groups (including participants with anti-HBs  antibody concentrations < 10 IU/l) received a challenge dose 72 to 78 months after primary  vaccination.\n",
            "One month after the challenge dose, all participants mounted an anamnestic response  to the challenge dose and were shown to be seroprotected (i.e. anti-HBs antibody concentrations ≥  10 IU/l).\n",
            "These data suggest that protection against hepatitis B may still be conferred through  immune memory in all participants who responded to primary vaccination but lost seroprotection  level of anti-HBs antibodies.\n",
            "In healthy participants and patients with renal insuffiency  In patients 16 years of age and above with impaired renal function, including patients undergoing  haemodialysis administered 40 µg (2 x 20 µg) doses at 0, 1, 2 and 6 months, SP rates were   55.4% at month 3 and  87.1% at month 7.\n",
            "4  Table 2: Seroprotection Rates (SP) obtained with 40 µg (2 x 20 µg) doses in haemodialysis  and pre-haemodialysis patients 16 years of age and above  Group Timing N SP       n        %  Pre-haemodialysis  patients Month 1  Month 2  Month 3  Month 6  Month 7  Month 12  42  42  42  38  39  36    3       7.1    5     11.9  18     42.9  21     55.3  31     79.5  27     75.0  Haemodialysis patients Month 1  Month 2  Month 3  Month 6  Month 7  Month 12  41  41  40  39  38  34    1       2.4  13     31.7  25     62.5  30     76.9  34     89.5  27     79.4  Immunogenicity was measured by the development of antibody to HBsAg as detected by enzyme  immunoassay (seropositivity cut-off: 3.3 mIU/mL), using a titre of ≥10 IU/L as indicative of  seroprotection.\n",
            "The National  Health and Medical Research Council (NHMRC) recommend all infants, young children and  unvaccinated adolescents receive a primary course of immunisation against hepatitis B.\n",
            "Groups identified at  increased risk of acquiring HBV infection include:   • Infants born to carrier (HBsAg-positive) mothers.\n",
            "Risk occurs in susceptible (anti-HBs negative) partners of HBV  carriers and patients with acute hepatitis B.\n",
            "Short-term tourists or business travellers are at very little risk of hepatitis B, provided they avoid  exposure through sexual contact, injecting drug use, tattooing and body piercing.\n",
            "As for any vaccine, ENGERIX-B should not be administered to participants with severe febrile  infections.\n",
            "haemophiliacs) the vaccine may  be administered subcutaneously, since bleeding after intramuscular injection may occur in these  patients (see DOSAGE AND ADMINISTRATION).\n",
            "As  individuals in these groups may respond less optimally to hepatitis B vaccines, the administration  of additional vaccine doses may be considered.\n",
            "7  In dialysis patients, HIV infected patients and participants who have impairment of the immune  system, adequate antibody concentrations may not be obtained after the recommended primary  vaccination course.\n",
            "(see DOSAGE AND ADMINISTRATION - chronic adult haemodialysis patients)  Caution should be exercised in administering the vaccine to patients in whom a systemic reaction  due to the vaccine may pose a significant risk; eg in patients with severely compromised  cardiopulmonary function.\n",
            "The vaccine may not prevent infection in individuals who do not achieve protective antibody titres.\n",
            "ENGERIX-B may be administered concomitantly with the following vaccines: diphtheria-tetanus- pertussis (DTP), diphtheria-tetanus (DT), poliomyelitis (oral or injectable), measles-mumps-rubella,  Haemophilus influenzae type b (Hib), and hepatitis A, providing separate syringes and separate  injection sites are used.\n",
            "Administration of ENGERIX-B at the same time as Cervarix (HPV vaccine) has shown no clinically  relevant interference in the antibody response to the HPV antigens.\n",
            "Anti-HBs geometric mean  antibody concentrations were lower on co-administration, but the clinical significance of this  observation is not known since the seroprotection rates remain unaffected.\n",
            "The simultaneous administration of ENGERIX-B and hepatitis B immunoglobulin (HBIG) does not  result in reduced anti-HBs antibody titres provided separate injection sites are used.\n",
            "Adverse effects data from patients who received a challenge dose of ENGERIX-B 10 µg  (preservative free) at 72 to 78 months after primary vaccination is shown in the below table.\n",
            "The  Group 1 participants had received 2 doses of thiomersal-free ENGERIX-B (20 µg) at 0 and 6  months, with placebo at Month 1.\n",
            "The Group 2 participants had received 3 doses of preservative- free ENGERIX-B (10 µg) at 0, 1 and 6 months.\n",
            "Events are  listed within body systems and categorised by frequency according to the following definitions:  Frequencies are reported as:  Very common: ≥ 1/10  Common: ≥1/100, <1/10  Uncommon: ≥1/1,000, <1/100  Rare: ≥1/10,000, <1/1,000  Very rare: <1/10,000 including isolated reports  Blood and lymphatic system disorders: Rare: lymphadenopathy  Metabolism and nutrition disorders: Common: appetite lost  Psychiatric disorders: Very common: irritability  Nervous system disorders: Common: headache (very common with 10 µg formulation),  drowsiness; Uncommon: dizziness; Rare: paresthesia  Gastrointestinal disorders: Common: gastrointestinal symptoms (such as nausea, vomiting,  diarrhea, abdominal pain)  Skin and subcutaneous tissue disorders: Rare: rash, pruritus, urticaria  Musculoskeletal and connective tissue disorders: Uncommon: myalgia; Rare: arthralgia  General disorders and administration site conditions: Very common: pain and redness at injection  site, fatigue; Common: swelling at injection site, malaise, injection site reaction (such as  induration), fever (≥37.5°C); Uncommon: influenza-like illness  Post-marketing Data  The following adverse events have been reported following widespread use of the vaccine.\n",
            "Very rare: ecchymosis at the injection site  Musculoskeletal system:   Rare:  arthralgia, myalgia  Very rare: arthritis  Unknown frequency: muscular weakness  Platelet bleeding and clotting:   Very rare: thrombocytopenia  Psychiatric:    Very rare: disturbed sleep  Respiratory system:    Very rare: bronchospasm-like symptoms, pharyngitis or other upper respiratory infection, cough   12  Skin and appendages:   Rare:  urticaria, rash, pruritus  Very rare:  severe skin disorders such as erythema multiforme, angioedema  Unknown frequency: lichen planus  Urinary system:   Very rare: dysuria  Vascular extracardiac:   Very rare:  vasculitis  White cell and reticulo-endothelial system:   Very rare:  lymphadenopathy  DOSAGE AND ADMINISTRATION  The vaccine is a ready-to-use suspension.\n",
            "Vaccination of individuals who  have antibodies against hepatitis B virus from a previous infection is not necessary.\n",
            "Adults and adolescents older than 19 years:  A dose of 20 µg of antigen protein in 1 mL is recommended in a 0, 1, 6 month schedule.\n",
            "13  Adolescents:  In adolescents from the age of 10 years, up to and including 19 years, a 10 µg dose is  recommended provided the immunisation is carried out in the 0, 1, 6 month schedule, in  circumstances which will ensure compliance to the full vaccination course.\n",
            "The 20 µg vaccine can also be used in participants from 11 years up to and including 15 years of  age in a 0 and 6 month schedule in situations when there is a relatively low risk of hepatitis B  infection during the vaccination course and when compliance with the complete vaccination course  can be anticipated.\n",
            "Adolescent vaccination is not necessary for children who have received a primary course of  hepatitis B vaccine.\n",
            "Neonates, infants and children below 10 years of age:    A dose of 10 µg of antigen protein in 0.5 mL suspension is recommended in a 0, 1, 6 months  schedule.\n",
            "For details on the recommended vaccination schedule, including use in pre-term  babies, refer to the NHMRC Handbook.\n",
            "#  The 20 µg vaccine may be administered in participants from 11  years up to and including 15 years of age  according to a 0,6 months schedule.\n",
            "However, in this case, protection against hepatitis B infections may not  be obtained until after the second dose (see Clinical Pharmacology).\n",
            "Therefore this schedule should be  used only when there is a relatively low risk of hepatitis B infection during the vaccination course and when  completion of the two-dose vaccination course can be anticipated.\n",
            "∇  The recommended schedule for hepatitis B vaccine in neonates is 0, 2, 4 and 6 months (refer to the  NHMRC Handbook).\n",
            "The recommended treatment regimen for infants born to HBsAg positive mothers  (irrespective of the mother’s HBeAg status) is as follows:  _______________________________________________________________________________   Vaccine Dose At birth 1 month* 6 months*                                        _______________________________________________________________________________  ENGERIX-B vaccine  10 µg 0.5mL 0.5mL    0.5mL  Hepatitis B Immunoglobulin      - 100 IU      -        -  (HBIG)  _______________________________________________________________________________  * after first dose   15  The first dose of vaccine and immunoglobulin should preferably be given within 12 hours of birth at  separate sites.\n",
            "However, as higher seroprotective rates are observed  following the 0, 1, 2 month schedule, it is recommended the 0, 7, 21 day schedule be administered  only to adults, and only in exceptional circumstances (e.g travellers commencing hepatitis B primary  vaccination within one month of departure).\n",
            "(see CLINICAL PHARMACOLOGY)  Since the peak  antibody levels reached after these shorter schedules of primary vaccination are lower compared to  the 0, 1 and 6 month schedule, it is recommended that a fourth dose (booster) be given at 12  months after the first dose of vaccine, in order to ensure adequate seroprotection rates.\n",
            "_______________________________________________________________________________   Vaccine dose Initial 1 month* 2 months* 6months*                                              _______________________________________________________________________________  Chronic haemodialysis or 40 µg 2mL 2mL 2mL 2mL  Impaired renal function  patients  _______________________________________________________________________________  * after first dose  As vaccine-induced protection in haemodialysis patients is less complete, boosting should be  adapted in order to ensure the anti-HBs antibody titre remains above 10IU/L (see  PRECAUTIONS).\n",
            "ENGERIX-B booster doses of 40 µg (2 x 20 µg) are recommended for  these patients.\n",
            "16  Post-exposure prophylaxis  There are no adequately controlled studies on the effectiveness of hepatitis B immunoglobulin  administration, along with the vaccine, in adults and older children exposed to hepatitis B virus  through 1) needlestick, ocular or mucous membrane exposure to blood known or presumed to  contain HBsAg; 2) human bites by known or presumed HBsAg carriers that penetrate the skin;  3)  following intimate sexual contact with known or presumed HBsAg carriers.\n",
            "Booster dose  The NHMRC recommends that booster doses against hepatitis B are not required in  immunocompetent individuals, since there is good evidence that a completed primary course of  hepatitis B vaccination provides long lasting protection in these individuals.\n",
            "PRESENTATIONS AND STORAGE CONDITIONS  ENGERIX-B 20 µg (Adult dose):  Monodose vials (1mL) in packs of 1, 10 and 25. \n"
          ],
          "name": "stdout"
        }
      ]
    },
    {
      "cell_type": "code",
      "metadata": {
        "id": "PtGAhah2KGTs",
        "colab_type": "code",
        "outputId": "e0d0df00-7ae8-4d28-da9a-326e54a1151d",
        "colab": {
          "base_uri": "https://localhost:8080/",
          "height": 52
        }
      },
      "source": [
        "import sumy\n",
        "from sumy.summarizers.lex_rank import LexRankSummarizer\n",
        "from sumy.nlp.tokenizers import Tokenizer\n",
        "import nltk\n",
        "nltk.download('punkt')\n",
        "from sumy.parsers.plaintext import PlaintextParser\n",
        "parser = PlaintextParser.from_string(rawList_str,Tokenizer('english'))"
      ],
      "execution_count": 72,
      "outputs": [
        {
          "output_type": "stream",
          "text": [
            "[nltk_data] Downloading package punkt to /root/nltk_data...\n",
            "[nltk_data]   Unzipping tokenizers/punkt.zip.\n"
          ],
          "name": "stdout"
        }
      ]
    },
    {
      "cell_type": "code",
      "metadata": {
        "id": "5eIPQ7ckXe-5",
        "colab_type": "code",
        "colab": {}
      },
      "source": [
        "Lex = LexRankSummarizer()\n",
        "#Lex.stop_words = [' ']\n",
        "Lex_summary = Lex(document=parser.document,sentences_count=70)"
      ],
      "execution_count": 0,
      "outputs": []
    },
    {
      "cell_type": "code",
      "metadata": {
        "id": "1fKferl0b7Rs",
        "colab_type": "code",
        "outputId": "fde978eb-ab91-47f0-db79-6569571d6f44",
        "colab": {
          "base_uri": "https://localhost:8080/",
          "height": 1000
        }
      },
      "source": [
        "for sentence in Lex_summary:\n",
        "    print(sentence)"
      ],
      "execution_count": 74,
      "outputs": [
        {
          "output_type": "stream",
          "text": [
            "No evidence  exists that any case of vCJD (considered to be the human form of bovine spongiform  encephalopathy) has resulted from the administration of any vaccine product.\n",
            "CLINICAL TRIALS  Protective Efficacy  Clinical trials demonstrated SC rates of ≥ 97% (seroprotection (SP) rates of ≥ 96%) in normal  immunocompetent adults and children following a 0, 1, 6 months schedule, and SC rates of >90%  in neonates following injections at 0, 1, 2 months.\n",
            "In a clinical trial where thalassaemic patients received three doses of 20µg at 0, 1, 6  months, SC rates as well as SP rates were 100% (17 participants tested).\n",
            "In healthy adults administered vaccine doses according to a 0, 1, 2 month primary schedule with a  12 month booster, seroprotective rates of 15% and 89% were achieved one month after the first  and third doses respectively.\n",
            "In healthy adolescents (from 11 years up to and including 15 years of age) administered doses of  20 µg at 0 and 6 months, SP rates were 11.3% at month 2, 26.4% at month 6 and 96.7% at month  7.\n",
            "3  The seroprotection rates (SP) obtained with the two different dosages and schedules  recommended in participants from 11 years up to and including 15 years of age were evaluated up  to 66 months after the first dose of the primary vaccination and are presented in Table 1.\n",
            "Table 1: Seroprotection Rates obtained with two different dosages in participants 11 to 15  years   Vaccine groups Anti-HBs  Month 2  SP (%)  Anti-HBs  Month 6  SP (%)  Anti-HBs  Month 7  SP (%)  Anti-HBs  Month 30  SP (%)  Anti-HBs  Month 42  SP (%)  Anti-HBs  Month 54  SP (%)  Anti-HBs  Month 66  SP (%)  ENGERIX-B 10µg   (0, 1, 6 months  schedule)  55.8  (46.1- 65.1)1  87.6  (80.1- 93.1)1  98.2  (93.8- 99.8)1  96.9  (89.2- 99.6)1  92.5  (84.4- 97.2)1  94.7  (87.1- 98.5)1  91.4  (82.3- 96.8)1  ENGERIX-B 20µg  (0, 6 months  schedule)  11.3  (7.5- 15.9)1  26.4  (20.9- 32.4)1  96.7  (93.6- 98.6)1  87.1  (80.4- 92.2)1  83.7  (77.2- 89.0)1  84.4  (77.5- 89.8)1  79.5  (71.7- 86.1)1  1 95% confidence interval, (lower limit – upper limit)  These data show that a primary vaccination with ENGERIX-B vaccine induces circulating anti-HBs  antibodies that persist for at least 66 months.\n",
            "From one month after completion of the primary  course through to 66 months i.e. Month 7 to Month 66, the Seroprotection rates were comparable  between the 2 groups but tended to be lower in the 20 µg Group (0, 6 months schedule) compared  to the 10 µg Group (0, 1, 6 month schedule) at all timepoints.\n",
            "The seroprotection rates at Month 66  were 79.5% (95%CI 71.7%, 86.1%) and 91.4% (95%CI 82.3%, 96.8%) in the 20 µg Group and 10  µg Group respectively.\n",
            "All participants in both vaccine groups (including participants with anti-HBs  antibody concentrations < 10 IU/l) received a challenge dose 72 to 78 months after primary  vaccination.\n",
            "One month after the challenge dose, all participants mounted an anamnestic response  to the challenge dose and were shown to be seroprotected (i.e. anti-HBs antibody concentrations ≥  10 IU/l).\n",
            "In healthy participants and patients with renal insuffiency  In patients 16 years of age and above with impaired renal function, including patients undergoing  haemodialysis administered 40 µg (2 x 20 µg) doses at 0, 1, 2 and 6 months, SP rates were   55.4% at month 3 and  87.1% at month 7.\n",
            "4  Table 2: Seroprotection Rates (SP) obtained with 40 µg (2 x 20 µg) doses in haemodialysis  and pre-haemodialysis patients 16 years of age and above  Group Timing N SP       n        %  Pre-haemodialysis  patients Month 1  Month 2  Month 3  Month 6  Month 7  Month 12  42  42  42  38  39  36    3       7.1    5     11.9  18     42.9  21     55.3  31     79.5  27     75.0  Haemodialysis patients Month 1  Month 2  Month 3  Month 6  Month 7  Month 12  41  41  40  39  38  34    1       2.4  13     31.7  25     62.5  30     76.9  34     89.5  27     79.4  Immunogenicity was measured by the development of antibody to HBsAg as detected by enzyme  immunoassay (seropositivity cut-off: 3.3 mIU/mL), using a titre of ≥10 IU/L as indicative of  seroprotection.\n",
            "Interchangeability of hepatitis B vaccines  Although no clinical data has been submitted, there is no reason to believe that the use of a  different formulation of hepatitis B vaccine used either during a primary vaccination course or  during booster dosing will not be satisfactory.\n",
            "5  INDICATIONS  ENGERIX-B is indicated for active immunisation against hepatitis B virus infection.\n",
            "The NHMRC also recommends immunisation for persons who are at substantial risk and have  been demonstrated or judged to be susceptible to the hepatitis B virus.\n",
            "• Individuals for whom post-exposure prophylaxis for hepatitis B is indicated.\n",
            "• Haemodialysis patients, HIV-positive individuals and other immunosuppressed adults.\n",
            "Such individuals should be vaccinated prior to transplantation if  seronegative for hepatitis B, as they may be at increased risk of infection from the transplanted  organ.\n",
            "Short-term tourists or business travellers are at very little risk of hepatitis B, provided they avoid  exposure through sexual contact, injecting drug use, tattooing and body piercing.\n",
            "Although the  risk of hepatitis B infection in contact sports is low, immunisation of those involved should not be   6  discouraged.\n",
            "As the risk in Australian schools is very low, vaccination of classroom contacts is  seldom indicated.\n",
            "As hepatitis D (caused by the delta agent) does not occur in the absence of hepatitis B infection, it  can be expected that hepatitis D will also be prevented by vaccination with ENGERIX-B.\n",
            "The  vaccine will not protect against infection caused by hepatitis A, hepatitis C and hepatitis E viruses,  and other pathogens known to infect the liver.\n",
            "As for any vaccine, ENGERIX-B should not be administered to participants with severe febrile  infections.\n",
            "HIV infection is not considered a contraindication to hepatitis B vaccination.\n",
            "ENGERIX-B should not be administered in the gluteal region or intradermally/subcutaneously since  these routes of administration may not result in an optimum immune response.\n",
            "haemophiliacs) the vaccine may  be administered subcutaneously, since bleeding after intramuscular injection may occur in these  patients (see DOSAGE AND ADMINISTRATION).\n",
            "As  individuals in these groups may respond less optimally to hepatitis B vaccines, the administration  of additional vaccine doses may be considered.\n",
            "7  In dialysis patients, HIV infected patients and participants who have impairment of the immune  system, adequate antibody concentrations may not be obtained after the recommended primary  vaccination course.\n",
            "The need for monitoring antibody levels in such patients should be  considered.\n",
            "Because of the long incubation period of hepatitis B, it is possible for unrecognised infection to be  present at the time of vaccination.\n",
            "The vaccine may not prevent hepatitis B in such cases.\n",
            "The vaccine will not protect against infection caused by hepatitis A, hepatitis C and hepatitis E  viruses, and other pathogens known to infect the liver.\n",
            "Use in impaired hepatic function  No information available.\n",
            "Use in impaired renal function  See under PRECAUTIONS for use in haemodialysis patients.\n",
            "ENGERIX-B may be administered concomitantly with the following vaccines: diphtheria-tetanus- pertussis (DTP), diphtheria-tetanus (DT), poliomyelitis (oral or injectable), measles-mumps-rubella,  Haemophilus influenzae type b (Hib), and hepatitis A, providing separate syringes and separate  injection sites are used.\n",
            "The incidence of local and systemic reactions was comparable to those of plasma  derived hepatitis B vaccines.\n",
            "In a comparative trial in participants from 11 years up to and including 15 years of age, the  incidence of local and general solicited symptoms reported after a two-dose regimen of ENGERIX- B 20 µg was overall similar to that reported after the standard three-dose regimen of ENGERIX-B  10 µg.\n",
            "Adverse effects data from patients who received a challenge dose of ENGERIX-B 10 µg  (preservative free) at 72 to 78 months after primary vaccination is shown in the below table.\n",
            "The  Group 1 participants had received 2 doses of thiomersal-free ENGERIX-B (20 µg) at 0 and 6  months, with placebo at Month 1.\n",
            "Events are  listed within body systems and categorised by frequency according to the following definitions:  Frequencies are reported as:  Very common: ≥ 1/10  Common: ≥1/100, <1/10  Uncommon: ≥1/1,000, <1/100  Rare: ≥1/10,000, <1/1,000  Very rare: <1/10,000 including isolated reports  Blood and lymphatic system disorders: Rare: lymphadenopathy  Metabolism and nutrition disorders: Common: appetite lost  Psychiatric disorders: Very common: irritability  Nervous system disorders: Common: headache (very common with 10 µg formulation),  drowsiness; Uncommon: dizziness; Rare: paresthesia  Gastrointestinal disorders: Common: gastrointestinal symptoms (such as nausea, vomiting,  diarrhea, abdominal pain)  Skin and subcutaneous tissue disorders: Rare: rash, pruritus, urticaria  Musculoskeletal and connective tissue disorders: Uncommon: myalgia; Rare: arthralgia  General disorders and administration site conditions: Very common: pain and redness at injection  site, fatigue; Common: swelling at injection site, malaise, injection site reaction (such as  induration), fever (≥37.5°C); Uncommon: influenza-like illness  Post-marketing Data  The following adverse events have been reported following widespread use of the vaccine.\n",
            "The monodose vial and pre-filled syringe presentations are for use in a single patient only and any  residue must be discarded.\n",
            "Dosage  The vaccine can be administered at any age from birth onwards.\n",
            "Vaccination of individuals who  have antibodies against hepatitis B virus from a previous infection is not necessary.\n",
            "Adults and adolescents older than 19 years:  A dose of 20 µg of antigen protein in 1 mL is recommended in a 0, 1, 6 month schedule.\n",
            "13  Adolescents:  In adolescents from the age of 10 years, up to and including 19 years, a 10 µg dose is  recommended provided the immunisation is carried out in the 0, 1, 6 month schedule, in  circumstances which will ensure compliance to the full vaccination course.\n",
            "If compliance cannot  be assured, then a 20 µg dose should be used to increase the proportion of participants protected  after the first and second doses.\n",
            "The 20 µg vaccine can also be used in participants from 11 years up to and including 15 years of  age in a 0 and 6 month schedule in situations when there is a relatively low risk of hepatitis B  infection during the vaccination course and when compliance with the complete vaccination course  can be anticipated.\n",
            "Adolescent vaccination is not necessary for children who have received a primary course of  hepatitis B vaccine.\n",
            "Neonates, infants and children below 10 years of age:    A dose of 10 µg of antigen protein in 0.5 mL suspension is recommended in a 0, 1, 6 months  schedule.\n",
            "14  Vaccination Schedules  For primary vaccination of adults, adolescents and children not previously exposed to the hepatitis  B virus, the schedules are as follows:  ______________________________________________________________________________   Vaccine dose Initial 1 month* 6 months*                                        ______________________________________________________________________________  Adults and adolescents over 20 µg 1 mL 1 mL  1 mL  19 years  Adolescents from 10 up to 10 µg 0.5mL 0.5mL  0.5mL  and including 19 years ‡  Adolescents from 11 years 20 µg 1 mL -  1 mL  up to and including 15 years   of age #  Neonates∇ and children  10 µg 0.5mL 0.5mL  0.5mL  younger than 10 years  ______________________________________________________________________________  * after first dose  ‡  if compliance cannot be assured a 20µg dose should be used.\n",
            "#  The 20 µg vaccine may be administered in participants from 11  years up to and including 15 years of age  according to a 0,6 months schedule.\n",
            "However, in this case, protection against hepatitis B infections may not  be obtained until after the second dose (see Clinical Pharmacology).\n",
            "Therefore this schedule should be  used only when there is a relatively low risk of hepatitis B infection during the vaccination course and when  completion of the two-dose vaccination course can be anticipated.\n",
            "If this cannot be anticipated, the three- dose schedule of the 10 µg vaccine should be used.\n",
            "∇  The recommended schedule for hepatitis B vaccine in neonates is 0, 2, 4 and 6 months (refer to the  NHMRC Handbook).\n",
            "The recommended treatment regimen for infants born to HBsAg positive mothers  (irrespective of the mother’s HBeAg status) is as follows:  _______________________________________________________________________________   Vaccine Dose At birth 1 month* 6 months*                                        _______________________________________________________________________________  ENGERIX-B vaccine  10 µg 0.5mL 0.5mL    0.5mL  Hepatitis B Immunoglobulin      - 100 IU      -        -  (HBIG)  _______________________________________________________________________________  * after first dose   15  The first dose of vaccine and immunoglobulin should preferably be given within 12 hours of birth at  separate sites.\n",
            "If this is not possible, vaccination should not be delayed beyond 7 days after birth.\n",
            "However, as higher seroprotective rates are observed  following the 0, 1, 2 month schedule, it is recommended the 0, 7, 21 day schedule be administered  only to adults, and only in exceptional circumstances (e.g travellers commencing hepatitis B primary  vaccination within one month of departure).\n",
            "(see CLINICAL PHARMACOLOGY)  Since the peak  antibody levels reached after these shorter schedules of primary vaccination are lower compared to  the 0, 1 and 6 month schedule, it is recommended that a fourth dose (booster) be given at 12  months after the first dose of vaccine, in order to ensure adequate seroprotection rates.\n",
            "Chronic adult haemodialysis patients/Patients with impaired renal function (creatinine  clearance <30 mL/min) 16 years of age and above  The primary vaccination schedule for chronic adult haemodialysis patients or patients with impaired  renal function 16 years of age and above consists of four doses of 40µg.\n",
            "The 40 µg (2mL) dose  may be administered as 2 x 20 µg in one injection site or in each arm.\n",
            "_______________________________________________________________________________   Vaccine dose Initial 1 month* 2 months* 6months*  _______________________________________________________________________________  Chronic haemodialysis or 40 µg 2mL 2mL 2mL 2mL  Impaired renal function  patients  _______________________________________________________________________________  * after first dose  As vaccine-induced protection in haemodialysis patients is less complete, boosting should be  adapted in order to ensure the anti-HBs antibody titre remains above 10IU/L (see  PRECAUTIONS).\n",
            "ENGERIX-B booster doses of 40 µg (2 x 20 µg) are recommended for  these patients.\n",
            "ENGERIX-B should be given at a separate site within 7 days  and then at 1 month and 6 months.\n",
            "Booster dose  The NHMRC recommends that booster doses against hepatitis B are not required in  immunocompetent individuals, since there is good evidence that a completed primary course of  hepatitis B vaccination provides long lasting protection in these individuals.\n",
            "This applies to adults,  children and all subgroups (such as health care workers).\n",
            "PRESENTATIONS AND STORAGE CONDITIONS  ENGERIX-B 20 µg (Adult dose):  Monodose vials (1mL) in packs of 1, 10 and 25.\n",
            "Date of first inclusion in the Australian Register of Therapeutic Goods (the ARTG):  24 July 2006  Date of most recent amendment: 05 November 2013  Version 6.0  Engerix is a registered trade mark of the GlaxoSmithKline group of companies  AUST R: 123713, 123709, 123712, 123710  \tGroup \tPRECAUTIONS \tEffects on the ability to drive and use machinery \tAdolescents from 11 years 20 (g 1 mL -  1 mL \tup to and including 15 years \tImpaired renal function \tOVERDOSAGE \t24 July 2006\n"
          ],
          "name": "stdout"
        }
      ]
    },
    {
      "cell_type": "code",
      "metadata": {
        "id": "CWsJfc-pmvwB",
        "colab_type": "code",
        "colab": {}
      },
      "source": [
        "from sumy.summarizers.luhn import LuhnSummarizer\n",
        "Luhn = LuhnSummarizer()\n",
        "Luhn_summary = Luhn(parser.document,70)"
      ],
      "execution_count": 0,
      "outputs": []
    },
    {
      "cell_type": "code",
      "metadata": {
        "id": "68ki3ar_nWcp",
        "colab_type": "code",
        "outputId": "c7132090-6aec-42a3-c981-19237c92d63d",
        "colab": {
          "base_uri": "https://localhost:8080/",
          "height": 1000
        }
      },
      "source": [
        "for sentence in Luhn_summary:\n",
        "    print(sentence)"
      ],
      "execution_count": 0,
      "outputs": [
        {
          "output_type": "stream",
          "text": [
            "1  ENGERIX®-B PRODUCT INFORMATION  (Hepatitis B surface antigen (rys))  NAME OF THE MEDICINE  ENGERIX-B   Hepatitis B surface antigen recombinant (yeast) vaccine  DESCRIPTION  Suspension for injection.\n",
            "10 µg dose vaccine  1 dose (0.5 ml) contains:  10 micrograms Hepatitis B surface antigen 1, 2      1Adsorbed on aluminium hydroxide, hydrated  Total: 0.25 milligrams Al3+  2Produced in yeast cells (Saccharomyces cerevisiae) by recombinant DNA technology  20µg dose vaccine  1 dose (1 ml) contains:  20 micrograms Hepatitis B surface antigen1, 2      1Adsorbed on aluminium hydroxide, hydrated Total: 0.50 milligrams Al3+  2Produced in yeast cells (Saccharomyces cerevisiae) by recombinant DNA technology  The final vaccines also contain sodium phosphate – dibasic dihydrate, sodium phosphate –  monobasic dihydrate, sodium chloride, and water for injections and traces of polysorbate 20.\n",
            "No evidence  exists that any case of vCJD (considered to be the human form of bovine spongiform  encephalopathy) has resulted from the administration of any vaccine product.\n",
            "CLINICAL TRIALS  Protective Efficacy  Clinical trials demonstrated SC rates of ≥ 97% (seroprotection (SP) rates of ≥ 96%) in normal  immunocompetent adults and children following a 0, 1, 6 months schedule, and SC rates of >90%  in neonates following injections at 0, 1, 2 months.\n",
            "At risk groups:  In clinical studies performed in Thailand twenty years after primary vaccination during infancy,  participants born to mothers who were HBV carriers, received a challenge dose of ENGERIX-B.\n",
            "One month later, at least 93% of participants (N=75) mounted an anamnestic response i.e. at least  (greater than or equal to) a 4-fold rise in post-challenge dose anti-HB’s antibody concentrations in  subjects seropositive at the previous available long-term time-point, demonstrating immune  memory.\n",
            "In a clinical trial where thalassaemic patients received three doses of 20µg at 0, 1, 6  months, SC rates as well as SP rates were 100% (17 participants tested).\n",
            "In healthy adults administered vaccine doses according to a 0, 1, 2 month primary schedule with a  12 month booster, seroprotective rates of 15% and 89% were achieved one month after the first  and third doses respectively.\n",
            "In healthy adults administered a 0, 7, 21 day primary  schedule with a 12 month booster, seroprotective rates of 65.2% and 76.4% were achieved one  week and one month respectively following the third vaccine dose.\n",
            "In healthy adolescents (from 11 years up to and including 15 years of age) administered doses of  20 µg at 0 and 6 months, SP rates were 11.3% at month 2, 26.4% at month 6 and 96.7% at month  7.\n",
            "Immunogenicity in this study was measured by the development of antibody to HBsAg as  detected by enzyme immunoassay (seropositivity cut-off: 3.3 mIU/ml), using a titre of ≥ 10 IU/L as  indicative of seroprotection.\n",
            "3  The seroprotection rates (SP) obtained with the two different dosages and schedules  recommended in participants from 11 years up to and including 15 years of age were evaluated up  to 66 months after the first dose of the primary vaccination and are presented in Table 1.\n",
            "Table 1: Seroprotection Rates obtained with two different dosages in participants 11 to 15  years   Vaccine groups Anti-HBs  Month 2  SP (%)  Anti-HBs  Month 6  SP (%)  Anti-HBs  Month 7  SP (%)  Anti-HBs  Month 30  SP (%)  Anti-HBs  Month 42  SP (%)  Anti-HBs  Month 54  SP (%)  Anti-HBs  Month 66  SP (%)  ENGERIX-B 10µg   (0, 1, 6 months  schedule)  55.8  (46.1- 65.1)1  87.6  (80.1- 93.1)1  98.2  (93.8- 99.8)1  96.9  (89.2- 99.6)1  92.5  (84.4- 97.2)1  94.7  (87.1- 98.5)1  91.4  (82.3- 96.8)1  ENGERIX-B 20µg  (0, 6 months  schedule)  11.3  (7.5- 15.9)1  26.4  (20.9- 32.4)1  96.7  (93.6- 98.6)1  87.1  (80.4- 92.2)1  83.7  (77.2- 89.0)1  84.4  (77.5- 89.8)1  79.5  (71.7- 86.1)1  1 95% confidence interval, (lower limit – upper limit)  These data show that a primary vaccination with ENGERIX-B vaccine induces circulating anti-HBs  antibodies that persist for at least 66 months.\n",
            "From one month after completion of the primary  course through to 66 months i.e. Month 7 to Month 66, the Seroprotection rates were comparable  between the 2 groups but tended to be lower in the 20 µg Group (0, 6 months schedule) compared  to the 10 µg Group (0, 1, 6 month schedule) at all timepoints.\n",
            "All participants in both vaccine groups (including participants with anti-HBs  antibody concentrations < 10 IU/l) received a challenge dose 72 to 78 months after primary  vaccination.\n",
            "One month after the challenge dose, all participants mounted an anamnestic response  to the challenge dose and were shown to be seroprotected (i.e. anti-HBs antibody concentrations ≥  10 IU/l).\n",
            "These data suggest that protection against hepatitis B may still be conferred through  immune memory in all participants who responded to primary vaccination but lost seroprotection  level of anti-HBs antibodies.\n",
            "In healthy participants and patients with renal insuffiency  In patients 16 years of age and above with impaired renal function, including patients undergoing  haemodialysis administered 40 µg (2 x 20 µg) doses at 0, 1, 2 and 6 months, SP rates were   55.4% at month 3 and  87.1% at month 7.\n",
            "4  Table 2: Seroprotection Rates (SP) obtained with 40 µg (2 x 20 µg) doses in haemodialysis  and pre-haemodialysis patients 16 years of age and above  Group Timing N SP       n        %  Pre-haemodialysis  patients Month 1  Month 2  Month 3  Month 6  Month 7  Month 12  42  42  42  38  39  36    3       7.1    5     11.9  18     42.9  21     55.3  31     79.5  27     75.0  Haemodialysis patients Month 1  Month 2  Month 3  Month 6  Month 7  Month 12  41  41  40  39  38  34    1       2.4  13     31.7  25     62.5  30     76.9  34     89.5  27     79.4  Immunogenicity was measured by the development of antibody to HBsAg as detected by enzyme  immunoassay (seropositivity cut-off: 3.3 mIU/mL), using a titre of ≥10 IU/L as indicative of  seroprotection.\n",
            "Rechallenge in healthy participants  In a clinical study conducted in Germany, healthy participants (N=284) aged 12 to 13 years  vaccinated during infancy with 3 doses of ENGERIX-B received a challenge dose of ENGERIX-B.\n",
            "Reduction in the incidence of hepatocellular carcinoma in children  A significant reduction in the incidence of hepatocellular carcinoma was observed in Taiwanese  children aged 6 - 14 years, following a nationwide hepatitis B vaccination program.\n",
            "Interchangeability of hepatitis B vaccines  Although no clinical data has been submitted, there is no reason to believe that the use of a  different formulation of hepatitis B vaccine used either during a primary vaccination course or  during booster dosing will not be satisfactory.\n",
            "The NHMRC also recommends immunisation for persons who are at substantial risk and have  been demonstrated or judged to be susceptible to the hepatitis B virus.\n",
            "• Individuals with chronic liver disease and / or hepatitis C.  • Staff and residents of facilities for the intellectually disabled, including both residential and non- residential care of this group.\n",
            "Such individuals should be vaccinated prior to transplantation if  seronegative for hepatitis B, as they may be at increased risk of infection from the transplanted  organ.\n",
            "Long term travellers to regions of high endemicity, and those residing for some time in such  regions who may anticipate close personal contact with local residents, should be vaccinated.\n",
            "Short-term tourists or business travellers are at very little risk of hepatitis B, provided they avoid  exposure through sexual contact, injecting drug use, tattooing and body piercing.\n",
            "As hepatitis D (caused by the delta agent) does not occur in the absence of hepatitis B infection, it  can be expected that hepatitis D will also be prevented by vaccination with ENGERIX-B.\n",
            "The  vaccine will not protect against infection caused by hepatitis A, hepatitis C and hepatitis E viruses,  and other pathogens known to infect the liver.\n",
            "CONTRAINDICATIONS  ENGERIX-B should not be administered to participants with known hypersensitivity to any  component of the vaccine, or to participants having shown signs of hypersensitivity after previous  ENGERIX-B administration.\n",
            "It is good clinical practice that any vaccination be preceded by a review of medical history  (especially with regard to previous vaccinations and possible adverse events) and a clinical  examination.\n",
            "haemophiliacs) the vaccine may  be administered subcutaneously, since bleeding after intramuscular injection may occur in these  patients (see DOSAGE AND ADMINISTRATION).\n",
            "The immune response to hepatitis B vaccines is related to a number of factors including route of  administration, age (more than 40 years of age), male gender, obesity, and smoking habits.\n",
            "7  In dialysis patients, HIV infected patients and participants who have impairment of the immune  system, adequate antibody concentrations may not be obtained after the recommended primary  vaccination course.\n",
            "(see DOSAGE AND ADMINISTRATION - chronic adult haemodialysis patients)  Caution should be exercised in administering the vaccine to patients in whom a systemic reaction  due to the vaccine may pose a significant risk; eg in patients with severely compromised  cardiopulmonary function.\n",
            "Because of the long incubation period of hepatitis B, it is possible for unrecognised infection to be  present at the time of vaccination.\n",
            "The vaccine will not protect against infection caused by hepatitis A, hepatitis C and hepatitis E  viruses, and other pathogens known to infect the liver.\n",
            "The potential risk of apnoea and the need for respiratory monitoring for 48-72 hours should be  considered when administering the primary immunisation series to very premature infants (born ≤  28 weeks of gestation) and particularly for those with a previous history of respiratory immaturity.\n",
            "Use in Lactation  Adequate human data on use during lactation and adequate animal reproduction studies are not  available.\n",
            "Administration of ENGERIX-B at the same time as Cervarix (HPV vaccine) has shown no clinically  relevant interference in the antibody response to the HPV antigens.\n",
            "The simultaneous administration of ENGERIX-B and hepatitis B immunoglobulin (HBIG) does not  result in reduced anti-HBs antibody titres provided separate injection sites are used.\n",
            "Effects on the ability to drive and use machinery  The vaccine is considered unlikely to affect the ability to drive and operate machinery.\n",
            "Clinical Trials Experience  Based on clinical trial symptom sheet data, the incidence of local side effects is 24% and of  systemic side effects 8%; both local and systemic side effects occurred in approximately 13% of  participants.\n",
            "In a comparative trial in participants from 11 years up to and including 15 years of age, the  incidence of local and general solicited symptoms reported after a two-dose regimen of ENGERIX- B 20 µg was overall similar to that reported after the standard three-dose regimen of ENGERIX-B  10 µg.\n",
            "Adverse effects data from patients who received a challenge dose of ENGERIX-B 10 µg  (preservative free) at 72 to 78 months after primary vaccination is shown in the below table.\n",
            "9  Table 3: Adverse effects data from patients who received a challenge dose of ENGERIX-B   10 µg at 72 to 78 months after primary vaccination  Incidence and Nature of Symptoms reported during the 4-day (Days 0-3) post-vaccination  period       (Total Vaccinated cohort)   Group 1 (N=55) Group 2 (N=22) Pooled (N=77)  n % 95% CI n % 95% CI n % 95% CI  LL UL LL UL LL UL  Any symptom 38 69.1 55.2 80.9 14 63.6 40.7 82.8 52 67.5 55.9 77.8  General symptoms 26 47.3 33.7 61.2 12 54.5 32.2 75.6 38 49.4 37.8 61.0  Local symptoms 31 56.4 42.3 69.7 5 22.7 7.8 45.4 36 46.8 35.3 58.5  Solicited local symptoms  Pain Any 22 40.0 27.0 54.1 4 18.2 5.2 40.3 26 33.8 23.4 45.4  Grade 3 0 0.0 0.0 6.5 0 0.0 0.0 15.4 0 0.0 0.0 4.7  M.A 0 0.0 0.0 6.5 0 0.0 0.0 15.4 0 0.0 0.0 4.7  Redness  (mm)  Any 11 20.0 10.4 33.0 1 4.5 0.1 22.8 12 15.6 8.3 25.6  ≥ 50mm 0 0.0 0.0 6.5 0 0.0 0.0 15.4 0 0.0 0.0 4.7  M.A 0 0.0 0.0 6.5 0 0.0 0.0 15.4 0 0.0 0.0 4.7  Swelling  (mm)  Any 9 16.4 7.8 28.8 0 0.0 0.0 15.4 9 11.7 5.5 21.0  ≥ 50mm 0 0.0 0.0 6.5 0 0.0 0.0 15.4 0 0.0 0.0 4.7  M.A 0 0.0 0.0 6.5 0 0.0 0.0 15.4 0 0.0 0.0 4.7  Solicited General Symptoms  Fatigue Any 19 34.5 22.2 48.6 7 31.8 13.9 54.9 26 33.8 23.4 45.4  Grade 3 1 1.8 0.0 9.7 0 0.0 0.0 15.4 1 1.3 0.0 7.0  Related 15 27.3 16.1 41.0 7 31.8 13.9 54.9 22 28.6 18.8 40.0  Grade 3  Related  0 0.0 0.0 6.5 0 0.0 0.0 15.4 0 0.0 0.0 4.7  M.A 1 1.8 0.0 9.7 0 0.0 0.0 15.4 1 1.3 0.0 7.0  Fever/  (Axillary)  (°C)  Any 1 1.8 0.0 9.7 0 0.0 0.0 15.4 1 1.3 0.0 7.0  ≥  37.5°C  1 1.8 0.0 9.7 0 0.0 0.0 15.4 1 1.3 0.0 7.0  >38.0°C 0 0.0 0.0 6.5 0 0.0 0.0 15.4 0 0.0 0.0 4.7  Related 0 0.0 0.0 6.5 0 0.0 0.0 15.4 0 0.0 0.0 4.7  >39.5°C  Related  0 0.0 0.0 6.5 0 0.0 0.0 15.4 0 0.0 0.0 4.7  M.A 1 1.8 0.0 9.7 0 0.0 0.0 15.4 1 1.3 0.0 7.0  Gastro- intestinal  symptoms  All 7 12.7 5.3 24.5 4 18.2 5.2 40.3 11 14.3 7.4 24.1  Grade 3 0 0.0 0.0 6.5 0 0.0 0.0 15.4 0 0.0 0.0 4.7  Related 7 12.7 5.3 24.5 2 9.1 1.1 29.2 9 11.7 5.5 21.0  Grade 3  Related  0 0.0 0.0 6.5 0 0.0 0.0 15.4 0 0.0 0.0 4.7  M.A 0 0.0 0.0 6.5 0 0.0 0.0 15.4 0 0.0 0.0 4.7  Headache All 14 25.5 14.7 39.0 4 18.2 5.2 40.3 18 23.4 14.5 34.4  Grade 3 0 0.0 0.0 6.5 0 0.0 0.0 15.4 0 0.0 0.0 4.7  Related 11 20.0 10.4 33.0 3 13.6 2.9 34.9 14 18.2 10.3 28.6  Grade 3  Related  0 0.0 0.0 6.5 0 0.0 0.0 15.4 0 0.0 0.0 4.7  M.A 1 1.8 0.0 9.7 0 0.0 0.0 15.4 1 1.3 0.0 7.0  Group 1 = received two doses of Engerix-B (20 μg HBsAg) in the primary study  Group 2 = received three doses of Engerix-B (10 μg HBsAg) in the primary study  N = number of participants who received the vaccine  n (%) = number (percentage) of participants who reported the symptom at least once  95% CI = Exact 95% confidence interval; LL = Lower limit, UL = Upper limit  Any = all reports of the specified symptom irrespective of intensity grade and relationship to vaccination  Grade 3 pain, fatigue, gastrointestinal symptoms, headache = pain, fatigue, gastrointestinal symptoms,  headache that prevented normal activity  Related = symptoms considered by the investigator to have causal relationship to vaccination  Grade 3 Related = adverse event which prevented normal everyday activities and was assessed as  causally related to vaccination  M.A.\n",
            "= symptoms for which the participants received medical attention  Pooled = Pooled results of Group 1 and Group 2   10  The safety profile presented below is based on data from more than 5,300 participants.\n",
            "Events are  listed within body systems and categorised by frequency according to the following definitions:  Frequencies are reported as:  Very common: ≥ 1/10  Common: ≥1/100, <1/10  Uncommon: ≥1/1,000, <1/100  Rare: ≥1/10,000, <1/1,000  Very rare: <1/10,000 including isolated reports  Blood and lymphatic system disorders: Rare: lymphadenopathy  Metabolism and nutrition disorders: Common: appetite lost  Psychiatric disorders: Very common: irritability  Nervous system disorders: Common: headache (very common with 10 µg formulation),  drowsiness; Uncommon: dizziness; Rare: paresthesia  Gastrointestinal disorders: Common: gastrointestinal symptoms (such as nausea, vomiting,  diarrhea, abdominal pain)  Skin and subcutaneous tissue disorders: Rare: rash, pruritus, urticaria  Musculoskeletal and connective tissue disorders: Uncommon: myalgia; Rare: arthralgia  General disorders and administration site conditions: Very common: pain and redness at injection  site, fatigue; Common: swelling at injection site, malaise, injection site reaction (such as  induration), fever (≥37.5°C); Uncommon: influenza-like illness  Post-marketing Data  The following adverse events have been reported following widespread use of the vaccine.\n",
            "Autonomic nervous system:   Rare:  flushing, sweating  Body as a whole:    Rare:  fever, fatigue, malaise, chills  Very rare: anaphylaxis, delayed hypersensitivity reactions, mimicking serum sickness  Unknown frequency: allergic reactions including anaphylactoid reactions  Cardiovascular   Very rare:  syncope, hypotension   11  Central and peripheral nervous system:   Rare:  paraesthesia, dizziness, headache  Very rare:  paralysis, neuropathy (including Guillain-Barre syndrome, facial paralysis, optic neuritis  [visual disturbance] and multiple sclerosis), encephalitis, encephalopathy, meningitis, neck  stiffness, neuritis and vertigo, convulsions  Unknown frequency: hypoaesthesia  Gastrointestinal system:   Rare:  nausea, vomiting, diarrhoea, abdominal pain  Very rare: anorexia  Hearing and Vestibular:   Very rare:  tinnitus  Liver and biliary system:   Rare:  abnormal liver function tests  Local reactions:   Common:  transient soreness, pain, induration, erythema, and swelling at the injection site have  been reported.\n",
            "Very rare: ecchymosis at the injection site  Musculoskeletal system:   Rare:  arthralgia, myalgia  Very rare: arthritis  Unknown frequency: muscular weakness  Platelet bleeding and clotting:   Very rare: thrombocytopenia  Psychiatric:    Very rare: disturbed sleep  Respiratory system:    Very rare: bronchospasm-like symptoms, pharyngitis or other upper respiratory infection, cough   12  Skin and appendages:   Rare:  urticaria, rash, pruritus  Very rare:  severe skin disorders such as erythema multiforme, angioedema  Unknown frequency: lichen planus  Urinary system:   Very rare: dysuria  Vascular extracardiac:   Very rare:  vasculitis  White cell and reticulo-endothelial system:   Very rare:  lymphadenopathy  DOSAGE AND ADMINISTRATION  The vaccine is a ready-to-use suspension.\n",
            "Adults and adolescents older than 19 years:  A dose of 20 µg of antigen protein in 1 mL is recommended in a 0, 1, 6 month schedule.\n",
            "13  Adolescents:  In adolescents from the age of 10 years, up to and including 19 years, a 10 µg dose is  recommended provided the immunisation is carried out in the 0, 1, 6 month schedule, in  circumstances which will ensure compliance to the full vaccination course.\n",
            "If compliance cannot  be assured, then a 20 µg dose should be used to increase the proportion of participants protected  after the first and second doses.\n",
            "The 20 µg vaccine can also be used in participants from 11 years up to and including 15 years of  age in a 0 and 6 month schedule in situations when there is a relatively low risk of hepatitis B  infection during the vaccination course and when compliance with the complete vaccination course  can be anticipated.\n",
            "Neonates, infants and children below 10 years of age:    A dose of 10 µg of antigen protein in 0.5 mL suspension is recommended in a 0, 1, 6 months  schedule.\n",
            "In adults, the injection should be given in the  deltoid region but it may be preferable to inject ENGERIX-B in the anterolateral thigh in neonates  and infants because of the small size of their deltoid muscle.\n",
            "14  Vaccination Schedules  For primary vaccination of adults, adolescents and children not previously exposed to the hepatitis  B virus, the schedules are as follows:  ______________________________________________________________________________   Vaccine dose Initial 1 month* 6 months*                                        ______________________________________________________________________________  Adults and adolescents over 20 µg 1 mL 1 mL  1 mL  19 years  Adolescents from 10 up to 10 µg 0.5mL 0.5mL  0.5mL  and including 19 years ‡  Adolescents from 11 years 20 µg 1 mL -  1 mL  up to and including 15 years   of age #  Neonates∇ and children  10 µg 0.5mL 0.5mL  0.5mL  younger than 10 years  ______________________________________________________________________________  * after first dose  ‡  if compliance cannot be assured a 20µg dose should be used.\n",
            "#  The 20 µg vaccine may be administered in participants from 11  years up to and including 15 years of age  according to a 0,6 months schedule.\n",
            "However, in this case, protection against hepatitis B infections may not  be obtained until after the second dose (see Clinical Pharmacology).\n",
            "Therefore this schedule should be  used only when there is a relatively low risk of hepatitis B infection during the vaccination course and when  completion of the two-dose vaccination course can be anticipated.\n",
            "The recommended treatment regimen for infants born to HBsAg positive mothers  (irrespective of the mother’s HBeAg status) is as follows:  _______________________________________________________________________________   Vaccine Dose At birth 1 month* 6 months*                                        _______________________________________________________________________________  ENGERIX-B vaccine  10 µg 0.5mL 0.5mL    0.5mL  Hepatitis B Immunoglobulin      - 100 IU      -        -  (HBIG)  _______________________________________________________________________________  * after first dose   15  The first dose of vaccine and immunoglobulin should preferably be given within 12 hours of birth at  separate sites.\n",
            "Accelerated schedules  In circumstances where more rapid protection is required (e.g. contacts of carriers, immunisation of  travellers and newborns to carrier women) two accelerated vaccination schedules of 0, 1 and 2  months or 0, 7 and 21 days may be used.\n",
            "However, as higher seroprotective rates are observed  following the 0, 1, 2 month schedule, it is recommended the 0, 7, 21 day schedule be administered  only to adults, and only in exceptional circumstances (e.g travellers commencing hepatitis B primary  vaccination within one month of departure).\n",
            "(see CLINICAL PHARMACOLOGY)  Since the peak  antibody levels reached after these shorter schedules of primary vaccination are lower compared to  the 0, 1 and 6 month schedule, it is recommended that a fourth dose (booster) be given at 12  months after the first dose of vaccine, in order to ensure adequate seroprotection rates.\n",
            "Chronic adult haemodialysis patients/Patients with impaired renal function (creatinine  clearance <30 mL/min) 16 years of age and above  The primary vaccination schedule for chronic adult haemodialysis patients or patients with impaired  renal function 16 years of age and above consists of four doses of 40µg.\n",
            "_______________________________________________________________________________   Vaccine dose Initial 1 month* 2 months* 6months*                                              _______________________________________________________________________________  Chronic haemodialysis or 40 µg 2mL 2mL 2mL 2mL  Impaired renal function  patients  _______________________________________________________________________________  * after first dose  As vaccine-induced protection in haemodialysis patients is less complete, boosting should be  adapted in order to ensure the anti-HBs antibody titre remains above 10IU/L (see  PRECAUTIONS).\n",
            "16  Post-exposure prophylaxis  There are no adequately controlled studies on the effectiveness of hepatitis B immunoglobulin  administration, along with the vaccine, in adults and older children exposed to hepatitis B virus  through 1) needlestick, ocular or mucous membrane exposure to blood known or presumed to  contain HBsAg; 2) human bites by known or presumed HBsAg carriers that penetrate the skin;  3)  following intimate sexual contact with known or presumed HBsAg carriers.\n",
            "Booster dose  The NHMRC recommends that booster doses against hepatitis B are not required in  immunocompetent individuals, since there is good evidence that a completed primary course of  hepatitis B vaccination provides long lasting protection in these individuals.\n",
            "The timing  for boosting in these individuals should be decided by regular monitoring of hepatitis B antibody  levels at six to twelve monthly intervals.\n",
            "Date of first inclusion in the Australian Register of Therapeutic Goods (the ARTG):  24 July 2006  Date of most recent amendment: 05 November 2013  Version 6.0  Engerix is a registered trade mark of the GlaxoSmithKline group of companies  AUST R: 123713, 123709, 123712, 123710  \tGroup \tPRECAUTIONS \tEffects on the ability to drive and use machinery \tAdolescents from 11 years 20 (g 1 mL -  1 mL \tup to and including 15 years \tImpaired renal function \tOVERDOSAGE \t24 July 2006\n"
          ],
          "name": "stdout"
        }
      ]
    }
  ]
}